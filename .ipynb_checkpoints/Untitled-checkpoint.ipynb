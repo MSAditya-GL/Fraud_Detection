{
 "cells": [
  {
   "cell_type": "markdown",
   "id": "95cb2b33",
   "metadata": {},
   "source": [
    "### Import all necessary Libraries"
   ]
  },
  {
   "cell_type": "code",
   "execution_count": 1,
   "id": "698cf122",
   "metadata": {},
   "outputs": [],
   "source": [
    "import os\n",
    "import numpy as np \n",
    "import pandas as pd \n",
    "import matplotlib.pyplot as plt\n",
    "import seaborn as sns\n",
    "import sklearn\n",
    "from sklearn.model_selection import train_test_split\n",
    "import warnings\n",
    "warnings.filterwarnings('ignore')\n",
    "\n",
    "import pickle\n",
    "import sklearn\n",
    "from sklearn.preprocessing import LabelEncoder\n",
    "from sklearn.model_selection import train_test_split\n",
    "from sklearn.metrics import r2_score, accuracy_score, confusion_matrix, classification_report, roc_curve, auc, precision_recall_curve\n",
    "from sklearn.linear_model import LinearRegression, LogisticRegression\n",
    "from sklearn.naive_bayes import GaussianNB\n",
    "from sklearn.neighbors import KNeighborsClassifier\n",
    "from sklearn.tree import DecisionTreeClassifier\n",
    "from sklearn.ensemble import RandomForestClassifier, RandomForestRegressor, BaggingClassifier, AdaBoostClassifier, GradientBoostingClassifier\n",
    "from sklearn.ensemble import StackingClassifier\n",
    "from tqdm.notebook import tqdm"
   ]
  },
  {
   "cell_type": "markdown",
   "id": "6bac9b3e",
   "metadata": {},
   "source": [
    "### Load the Dataset "
   ]
  },
  {
   "cell_type": "code",
   "execution_count": 2,
   "id": "610a5260",
   "metadata": {},
   "outputs": [],
   "source": [
    "# Function to load data from a single .pkl file\n",
    "def load_pkl(file_path):\n",
    "    with open(file_path, 'rb') as file:\n",
    "        data = pickle.load(file)\n",
    "    return pd.DataFrame(data)\n",
    "\n",
    "# Directory containing the .pkl files\n",
    "directory = 'dataset/data'  # Adjust this path based on your setup\n",
    "\n",
    "# List to hold all DataFrames\n",
    "all_dataframes = []\n",
    "\n",
    "# Iterate through the .pkl files in the directory\n",
    "for filename in os.listdir(directory):\n",
    "    if filename.endswith('.pkl'):\n",
    "        file_path = os.path.join(directory, filename)\n",
    "        df = load_pkl(file_path)\n",
    "        all_dataframes.append(df)\n",
    "        \n",
    "\n",
    "# Combine all DataFrames into one\n",
    "combined_df = pd.concat(all_dataframes, ignore_index=True)"
   ]
  },
  {
   "cell_type": "markdown",
   "id": "d66ed566",
   "metadata": {},
   "source": [
    "### EDA and Preprocessing"
   ]
  },
  {
   "cell_type": "code",
   "execution_count": 3,
   "id": "a7d7a92b",
   "metadata": {},
   "outputs": [
    {
     "data": {
      "text/html": [
       "<div>\n",
       "<style scoped>\n",
       "    .dataframe tbody tr th:only-of-type {\n",
       "        vertical-align: middle;\n",
       "    }\n",
       "\n",
       "    .dataframe tbody tr th {\n",
       "        vertical-align: top;\n",
       "    }\n",
       "\n",
       "    .dataframe thead th {\n",
       "        text-align: right;\n",
       "    }\n",
       "</style>\n",
       "<table border=\"1\" class=\"dataframe\">\n",
       "  <thead>\n",
       "    <tr style=\"text-align: right;\">\n",
       "      <th></th>\n",
       "      <th>TRANSACTION_ID</th>\n",
       "      <th>TX_DATETIME</th>\n",
       "      <th>CUSTOMER_ID</th>\n",
       "      <th>TERMINAL_ID</th>\n",
       "      <th>TX_AMOUNT</th>\n",
       "      <th>TX_TIME_SECONDS</th>\n",
       "      <th>TX_TIME_DAYS</th>\n",
       "      <th>TX_FRAUD</th>\n",
       "      <th>TX_FRAUD_SCENARIO</th>\n",
       "    </tr>\n",
       "  </thead>\n",
       "  <tbody>\n",
       "    <tr>\n",
       "      <th>0</th>\n",
       "      <td>0</td>\n",
       "      <td>2018-04-01 00:00:31</td>\n",
       "      <td>596</td>\n",
       "      <td>3156</td>\n",
       "      <td>57.16</td>\n",
       "      <td>31</td>\n",
       "      <td>0</td>\n",
       "      <td>0</td>\n",
       "      <td>0</td>\n",
       "    </tr>\n",
       "    <tr>\n",
       "      <th>1</th>\n",
       "      <td>1</td>\n",
       "      <td>2018-04-01 00:02:10</td>\n",
       "      <td>4961</td>\n",
       "      <td>3412</td>\n",
       "      <td>81.51</td>\n",
       "      <td>130</td>\n",
       "      <td>0</td>\n",
       "      <td>0</td>\n",
       "      <td>0</td>\n",
       "    </tr>\n",
       "    <tr>\n",
       "      <th>2</th>\n",
       "      <td>2</td>\n",
       "      <td>2018-04-01 00:07:56</td>\n",
       "      <td>2</td>\n",
       "      <td>1365</td>\n",
       "      <td>146.00</td>\n",
       "      <td>476</td>\n",
       "      <td>0</td>\n",
       "      <td>0</td>\n",
       "      <td>0</td>\n",
       "    </tr>\n",
       "    <tr>\n",
       "      <th>3</th>\n",
       "      <td>3</td>\n",
       "      <td>2018-04-01 00:09:29</td>\n",
       "      <td>4128</td>\n",
       "      <td>8737</td>\n",
       "      <td>64.49</td>\n",
       "      <td>569</td>\n",
       "      <td>0</td>\n",
       "      <td>0</td>\n",
       "      <td>0</td>\n",
       "    </tr>\n",
       "    <tr>\n",
       "      <th>4</th>\n",
       "      <td>4</td>\n",
       "      <td>2018-04-01 00:10:34</td>\n",
       "      <td>927</td>\n",
       "      <td>9906</td>\n",
       "      <td>50.99</td>\n",
       "      <td>634</td>\n",
       "      <td>0</td>\n",
       "      <td>0</td>\n",
       "      <td>0</td>\n",
       "    </tr>\n",
       "  </tbody>\n",
       "</table>\n",
       "</div>"
      ],
      "text/plain": [
       "   TRANSACTION_ID         TX_DATETIME CUSTOMER_ID TERMINAL_ID  TX_AMOUNT  \\\n",
       "0               0 2018-04-01 00:00:31         596        3156      57.16   \n",
       "1               1 2018-04-01 00:02:10        4961        3412      81.51   \n",
       "2               2 2018-04-01 00:07:56           2        1365     146.00   \n",
       "3               3 2018-04-01 00:09:29        4128        8737      64.49   \n",
       "4               4 2018-04-01 00:10:34         927        9906      50.99   \n",
       "\n",
       "  TX_TIME_SECONDS TX_TIME_DAYS  TX_FRAUD  TX_FRAUD_SCENARIO  \n",
       "0              31            0         0                  0  \n",
       "1             130            0         0                  0  \n",
       "2             476            0         0                  0  \n",
       "3             569            0         0                  0  \n",
       "4             634            0         0                  0  "
      ]
     },
     "execution_count": 3,
     "metadata": {},
     "output_type": "execute_result"
    }
   ],
   "source": [
    "# Display the combined DataFrame\n",
    "combined_df.head(5)"
   ]
  },
  {
   "cell_type": "code",
   "execution_count": 4,
   "id": "3d5332fe",
   "metadata": {},
   "outputs": [
    {
     "name": "stdout",
     "output_type": "stream",
     "text": [
      "<class 'pandas.core.frame.DataFrame'>\n",
      "RangeIndex: 1754155 entries, 0 to 1754154\n",
      "Data columns (total 9 columns):\n",
      " #   Column             Dtype         \n",
      "---  ------             -----         \n",
      " 0   TRANSACTION_ID     int64         \n",
      " 1   TX_DATETIME        datetime64[ns]\n",
      " 2   CUSTOMER_ID        object        \n",
      " 3   TERMINAL_ID        object        \n",
      " 4   TX_AMOUNT          float64       \n",
      " 5   TX_TIME_SECONDS    object        \n",
      " 6   TX_TIME_DAYS       object        \n",
      " 7   TX_FRAUD           int64         \n",
      " 8   TX_FRAUD_SCENARIO  int64         \n",
      "dtypes: datetime64[ns](1), float64(1), int64(3), object(4)\n",
      "memory usage: 120.4+ MB\n"
     ]
    }
   ],
   "source": [
    "combined_df.info()"
   ]
  },
  {
   "cell_type": "markdown",
   "id": "51a75740",
   "metadata": {},
   "source": [
    "* This output shows that we have around 1754155 entries with 9 Columns\n",
    "* We have 4 Object data type, 3 Interger data type, 1 Float data type and 1 Date time data type "
   ]
  },
  {
   "cell_type": "code",
   "execution_count": 5,
   "id": "ae9279af",
   "metadata": {},
   "outputs": [
    {
     "data": {
      "text/html": [
       "<div>\n",
       "<style scoped>\n",
       "    .dataframe tbody tr th:only-of-type {\n",
       "        vertical-align: middle;\n",
       "    }\n",
       "\n",
       "    .dataframe tbody tr th {\n",
       "        vertical-align: top;\n",
       "    }\n",
       "\n",
       "    .dataframe thead th {\n",
       "        text-align: right;\n",
       "    }\n",
       "</style>\n",
       "<table border=\"1\" class=\"dataframe\">\n",
       "  <thead>\n",
       "    <tr style=\"text-align: right;\">\n",
       "      <th></th>\n",
       "      <th>TRANSACTION_ID</th>\n",
       "      <th>TX_AMOUNT</th>\n",
       "      <th>TX_FRAUD</th>\n",
       "      <th>TX_FRAUD_SCENARIO</th>\n",
       "    </tr>\n",
       "  </thead>\n",
       "  <tbody>\n",
       "    <tr>\n",
       "      <th>count</th>\n",
       "      <td>1.754155e+06</td>\n",
       "      <td>1.754155e+06</td>\n",
       "      <td>1.754155e+06</td>\n",
       "      <td>1.754155e+06</td>\n",
       "    </tr>\n",
       "    <tr>\n",
       "      <th>mean</th>\n",
       "      <td>8.770770e+05</td>\n",
       "      <td>5.363230e+01</td>\n",
       "      <td>8.369272e-03</td>\n",
       "      <td>1.882388e-02</td>\n",
       "    </tr>\n",
       "    <tr>\n",
       "      <th>std</th>\n",
       "      <td>5.063811e+05</td>\n",
       "      <td>4.232649e+01</td>\n",
       "      <td>9.110012e-02</td>\n",
       "      <td>2.113263e-01</td>\n",
       "    </tr>\n",
       "    <tr>\n",
       "      <th>min</th>\n",
       "      <td>0.000000e+00</td>\n",
       "      <td>0.000000e+00</td>\n",
       "      <td>0.000000e+00</td>\n",
       "      <td>0.000000e+00</td>\n",
       "    </tr>\n",
       "    <tr>\n",
       "      <th>25%</th>\n",
       "      <td>4.385385e+05</td>\n",
       "      <td>2.101000e+01</td>\n",
       "      <td>0.000000e+00</td>\n",
       "      <td>0.000000e+00</td>\n",
       "    </tr>\n",
       "    <tr>\n",
       "      <th>50%</th>\n",
       "      <td>8.770770e+05</td>\n",
       "      <td>4.464000e+01</td>\n",
       "      <td>0.000000e+00</td>\n",
       "      <td>0.000000e+00</td>\n",
       "    </tr>\n",
       "    <tr>\n",
       "      <th>75%</th>\n",
       "      <td>1.315616e+06</td>\n",
       "      <td>7.695000e+01</td>\n",
       "      <td>0.000000e+00</td>\n",
       "      <td>0.000000e+00</td>\n",
       "    </tr>\n",
       "    <tr>\n",
       "      <th>max</th>\n",
       "      <td>1.754154e+06</td>\n",
       "      <td>2.628000e+03</td>\n",
       "      <td>1.000000e+00</td>\n",
       "      <td>3.000000e+00</td>\n",
       "    </tr>\n",
       "  </tbody>\n",
       "</table>\n",
       "</div>"
      ],
      "text/plain": [
       "       TRANSACTION_ID     TX_AMOUNT      TX_FRAUD  TX_FRAUD_SCENARIO\n",
       "count    1.754155e+06  1.754155e+06  1.754155e+06       1.754155e+06\n",
       "mean     8.770770e+05  5.363230e+01  8.369272e-03       1.882388e-02\n",
       "std      5.063811e+05  4.232649e+01  9.110012e-02       2.113263e-01\n",
       "min      0.000000e+00  0.000000e+00  0.000000e+00       0.000000e+00\n",
       "25%      4.385385e+05  2.101000e+01  0.000000e+00       0.000000e+00\n",
       "50%      8.770770e+05  4.464000e+01  0.000000e+00       0.000000e+00\n",
       "75%      1.315616e+06  7.695000e+01  0.000000e+00       0.000000e+00\n",
       "max      1.754154e+06  2.628000e+03  1.000000e+00       3.000000e+00"
      ]
     },
     "execution_count": 5,
     "metadata": {},
     "output_type": "execute_result"
    }
   ],
   "source": [
    "combined_df.describe()"
   ]
  },
  {
   "cell_type": "code",
   "execution_count": 6,
   "id": "9c84b9d1",
   "metadata": {},
   "outputs": [
    {
     "data": {
      "text/html": [
       "<div>\n",
       "<style scoped>\n",
       "    .dataframe tbody tr th:only-of-type {\n",
       "        vertical-align: middle;\n",
       "    }\n",
       "\n",
       "    .dataframe tbody tr th {\n",
       "        vertical-align: top;\n",
       "    }\n",
       "\n",
       "    .dataframe thead th {\n",
       "        text-align: right;\n",
       "    }\n",
       "</style>\n",
       "<table border=\"1\" class=\"dataframe\">\n",
       "  <thead>\n",
       "    <tr style=\"text-align: right;\">\n",
       "      <th></th>\n",
       "      <th>CUSTOMER_ID</th>\n",
       "      <th>TERMINAL_ID</th>\n",
       "      <th>TX_TIME_SECONDS</th>\n",
       "      <th>TX_TIME_DAYS</th>\n",
       "    </tr>\n",
       "  </thead>\n",
       "  <tbody>\n",
       "    <tr>\n",
       "      <th>count</th>\n",
       "      <td>1754155</td>\n",
       "      <td>1754155</td>\n",
       "      <td>1754155</td>\n",
       "      <td>1754155</td>\n",
       "    </tr>\n",
       "    <tr>\n",
       "      <th>unique</th>\n",
       "      <td>4990</td>\n",
       "      <td>10000</td>\n",
       "      <td>1635076</td>\n",
       "      <td>183</td>\n",
       "    </tr>\n",
       "    <tr>\n",
       "      <th>top</th>\n",
       "      <td>382</td>\n",
       "      <td>4018</td>\n",
       "      <td>7992619</td>\n",
       "      <td>90</td>\n",
       "    </tr>\n",
       "    <tr>\n",
       "      <th>freq</th>\n",
       "      <td>767</td>\n",
       "      <td>376</td>\n",
       "      <td>6</td>\n",
       "      <td>9789</td>\n",
       "    </tr>\n",
       "  </tbody>\n",
       "</table>\n",
       "</div>"
      ],
      "text/plain": [
       "        CUSTOMER_ID  TERMINAL_ID  TX_TIME_SECONDS  TX_TIME_DAYS\n",
       "count       1754155      1754155          1754155       1754155\n",
       "unique         4990        10000          1635076           183\n",
       "top             382         4018          7992619            90\n",
       "freq            767          376                6          9789"
      ]
     },
     "execution_count": 6,
     "metadata": {},
     "output_type": "execute_result"
    }
   ],
   "source": [
    "combined_df.describe(include='O')"
   ]
  },
  {
   "cell_type": "markdown",
   "id": "9fcd7a19",
   "metadata": {},
   "source": [
    "##### Inference\n",
    "   * The dataset has 1754155 rows and 9 columns\n",
    "   * There is missing values in some columns, so we have to treat with appropriate method"
   ]
  },
  {
   "cell_type": "markdown",
   "id": "cb946cfd",
   "metadata": {},
   "source": [
    "### Checking the shape"
   ]
  },
  {
   "cell_type": "code",
   "execution_count": 7,
   "id": "677eaf20",
   "metadata": {},
   "outputs": [
    {
     "data": {
      "text/plain": [
       "(1754155, 9)"
      ]
     },
     "execution_count": 7,
     "metadata": {},
     "output_type": "execute_result"
    }
   ],
   "source": [
    "combined_df.shape"
   ]
  },
  {
   "cell_type": "code",
   "execution_count": 8,
   "id": "4d33ee1c",
   "metadata": {},
   "outputs": [
    {
     "data": {
      "text/plain": [
       "2"
      ]
     },
     "execution_count": 8,
     "metadata": {},
     "output_type": "execute_result"
    }
   ],
   "source": [
    "combined_df.ndim"
   ]
  },
  {
   "cell_type": "markdown",
   "id": "f2cec0fc",
   "metadata": {},
   "source": [
    "## Data cleansing and Exploratory data analysis"
   ]
  },
  {
   "cell_type": "markdown",
   "id": "39b5729b",
   "metadata": {},
   "source": [
    "### Check if there are any duplicate records in the dataset? If any, drop them."
   ]
  },
  {
   "cell_type": "code",
   "execution_count": 9,
   "id": "2bc35764",
   "metadata": {},
   "outputs": [
    {
     "data": {
      "text/plain": [
       "0"
      ]
     },
     "execution_count": 9,
     "metadata": {},
     "output_type": "execute_result"
    }
   ],
   "source": [
    "combined_df.duplicated().sum()"
   ]
  },
  {
   "cell_type": "markdown",
   "id": "acec30ad",
   "metadata": {},
   "source": [
    "##### There is no duplicated record in this dataset"
   ]
  },
  {
   "cell_type": "markdown",
   "id": "47414183",
   "metadata": {},
   "source": [
    "### Check for Null values and impute them"
   ]
  },
  {
   "cell_type": "code",
   "execution_count": 10,
   "id": "92bd4f9c",
   "metadata": {},
   "outputs": [
    {
     "data": {
      "text/plain": [
       "TRANSACTION_ID       0\n",
       "TX_DATETIME          0\n",
       "CUSTOMER_ID          0\n",
       "TERMINAL_ID          0\n",
       "TX_AMOUNT            0\n",
       "TX_TIME_SECONDS      0\n",
       "TX_TIME_DAYS         0\n",
       "TX_FRAUD             0\n",
       "TX_FRAUD_SCENARIO    0\n",
       "dtype: int64"
      ]
     },
     "execution_count": 10,
     "metadata": {},
     "output_type": "execute_result"
    }
   ],
   "source": [
    "combined_df.isna().sum()"
   ]
  },
  {
   "cell_type": "markdown",
   "id": "3d9c1eb1",
   "metadata": {},
   "source": [
    "Inference:\n",
    "* there is no null values in the dataset"
   ]
  },
  {
   "cell_type": "markdown",
   "id": "b770cf70",
   "metadata": {},
   "source": [
    "### Feature Engineering\n",
    "Let's create features based on the scenarios described:\n",
    "\n",
    "Amount-based feature: Flag transactions with amounts greater than 220.\n",
    "\n",
    "Terminal-based feature: Identify terminals with fraudulent transactions.\n",
    "\n",
    "Customer spending patterns: Track changes in spending behavior."
   ]
  },
  {
   "cell_type": "code",
   "execution_count": 11,
   "id": "6cf7c38d",
   "metadata": {},
   "outputs": [],
   "source": [
    "# Example: Calculate the average spending per customer\n",
    "customer_avg_spending = combined_df.groupby('CUSTOMER_ID')['TX_AMOUNT'].mean().rename('customer_avg_spending')\n",
    "df = combined_df.join(customer_avg_spending, on='CUSTOMER_ID')\n",
    "\n",
    "# Flag transactions significantly higher than the average spending\n",
    "df['customer_spending_fraud'] = combined_df['TX_AMOUNT'] > df['customer_avg_spending'] * 5"
   ]
  },
  {
   "cell_type": "code",
   "execution_count": 12,
   "id": "04e1f778",
   "metadata": {},
   "outputs": [],
   "source": [
    "# Create a feature indicating high transaction amounts\n",
    "df['amount_fraud'] = combined_df['TX_AMOUNT'] > 220"
   ]
  },
  {
   "cell_type": "code",
   "execution_count": 13,
   "id": "1e574651",
   "metadata": {},
   "outputs": [],
   "source": [
    "# Assume we have a list of fraudulent terminals (this should be dynamically generated)\n",
    "fraudulent_terminals = np.random.choice(df['TERMINAL_ID'].unique(), 2, replace=False)\n",
    "\n",
    "# Flag transactions from fraudulent terminals\n",
    "df['terminal_fraud'] = combined_df['TERMINAL_ID'].isin(fraudulent_terminals)"
   ]
  },
  {
   "cell_type": "code",
   "execution_count": 14,
   "id": "c4c24df8",
   "metadata": {},
   "outputs": [],
   "source": [
    "df['predicted_fraud'] = df[['amount_fraud', 'terminal_fraud', 'customer_spending_fraud']].any(axis=1)"
   ]
  },
  {
   "cell_type": "markdown",
   "id": "9c290bfb",
   "metadata": {},
   "source": [
    "### Seperate the target and independent features and split the data into train and test"
   ]
  },
  {
   "cell_type": "code",
   "execution_count": 15,
   "id": "ca19c35f",
   "metadata": {},
   "outputs": [
    {
     "name": "stdout",
     "output_type": "stream",
     "text": [
      "Shape of X_train: (1227908, 3)\n",
      "Shape of X_test: (526247, 3)\n",
      "Shape of y_train: (1227908,)\n",
      "Shape of y_test: (526247,)\n"
     ]
    }
   ],
   "source": [
    "# Features and target variable\n",
    "X = df[['amount_fraud', 'terminal_fraud', 'customer_spending_fraud']]\n",
    "y = df['TX_FRAUD']\n",
    "\n",
    "# Split the data into train and test\n",
    "X_train, X_test, y_train, y_test = train_test_split(X, y, test_size=0.3, random_state=42)\n",
    "print('Shape of X_train:',X_train.shape)\n",
    "print('Shape of X_test:',X_test.shape)\n",
    "print('Shape of y_train:',y_train.shape)\n",
    "print('Shape of y_test:',y_test.shape)"
   ]
  },
  {
   "cell_type": "markdown",
   "id": "55e825de",
   "metadata": {},
   "source": [
    "### Build the Classification model to predict the Fraud Transaction and save the model using pickle"
   ]
  },
  {
   "cell_type": "code",
   "execution_count": 16,
   "id": "7c8fabe7",
   "metadata": {},
   "outputs": [],
   "source": [
    "def fit_n_predict(model, X_train, X_test, y_train, y_test):\n",
    "    # Fit the model with train data\n",
    "    model.fit(X_train, y_train)\n",
    "    \n",
    "    # Making prediction on test set\n",
    "    y_pred= model.predict(X_test)\n",
    "    \n",
    "    # Calculating the accuracy score\n",
    "    accuracy = accuracy_score(y_test, y_pred)\n",
    "    \n",
    "    return accuracy"
   ]
  },
  {
   "cell_type": "code",
   "execution_count": 17,
   "id": "257df7fb",
   "metadata": {},
   "outputs": [],
   "source": [
    "# Intializing the models\n",
    "lr = LogisticRegression()\n",
    "nb = GaussianNB()\n",
    "knn = KNeighborsClassifier()\n",
    "dt = DecisionTreeClassifier()\n",
    "rf = RandomForestClassifier(n_estimators=30, random_state=10)\n",
    "adb = AdaBoostClassifier()\n",
    "gb = GradientBoostingClassifier()"
   ]
  },
  {
   "cell_type": "code",
   "execution_count": 18,
   "id": "a8e326a0",
   "metadata": {},
   "outputs": [
    {
     "data": {
      "text/html": [
       "<div>\n",
       "<style scoped>\n",
       "    .dataframe tbody tr th:only-of-type {\n",
       "        vertical-align: middle;\n",
       "    }\n",
       "\n",
       "    .dataframe tbody tr th {\n",
       "        vertical-align: top;\n",
       "    }\n",
       "\n",
       "    .dataframe thead th {\n",
       "        text-align: right;\n",
       "    }\n",
       "</style>\n",
       "<table border=\"1\" class=\"dataframe\">\n",
       "  <thead>\n",
       "    <tr style=\"text-align: right;\">\n",
       "      <th></th>\n",
       "      <th>Accuracy</th>\n",
       "    </tr>\n",
       "  </thead>\n",
       "  <tbody>\n",
       "    <tr>\n",
       "      <th>Random Forest</th>\n",
       "      <td>0.99387</td>\n",
       "    </tr>\n",
       "  </tbody>\n",
       "</table>\n",
       "</div>"
      ],
      "text/plain": [
       "               Accuracy\n",
       "Random Forest   0.99387"
      ]
     },
     "execution_count": 18,
     "metadata": {},
     "output_type": "execute_result"
    }
   ],
   "source": [
    "result = pd.DataFrame(columns = ['Accuracy'])\n",
    "\n",
    "for model,model_name in zip([rf],\n",
    "                            ['Random Forest']):\n",
    "    \n",
    "    result.loc[model_name] = fit_n_predict(model,X_train,X_test,y_train,y_test)\n",
    "    \n",
    "\n",
    "result"
   ]
  },
  {
   "cell_type": "markdown",
   "id": "03bde9e2",
   "metadata": {},
   "source": [
    "### Predict \"Outcome\" using Random Forest Classifier"
   ]
  },
  {
   "cell_type": "code",
   "execution_count": 19,
   "id": "ca99ade3",
   "metadata": {},
   "outputs": [
    {
     "name": "stdout",
     "output_type": "stream",
     "text": [
      "Accuracy train: 0.993761747622786\n",
      "Accuracy test: 0.9938697987827009\n"
     ]
    }
   ],
   "source": [
    "y_train_pred_rf = rf.predict(X_train) \n",
    "y_test_pred_rf = rf.predict(X_test)\n",
    "\n",
    "\n",
    "accuracy_train = accuracy_score(y_train,y_train_pred_rf)\n",
    "accuracy_test = accuracy_score(y_test,y_test_pred_rf)\n",
    "\n",
    "print('Accuracy train:', accuracy_train)\n",
    "print('Accuracy test:', accuracy_test)"
   ]
  },
  {
   "cell_type": "code",
   "execution_count": 20,
   "id": "1848deba",
   "metadata": {},
   "outputs": [
    {
     "name": "stdout",
     "output_type": "stream",
     "text": [
      "              precision    recall  f1-score   support\n",
      "\n",
      "       Legit       0.99      1.00      1.00    521905\n",
      "       Fraud       1.00      0.26      0.41      4342\n",
      "\n",
      "    accuracy                           0.99    526247\n",
      "   macro avg       1.00      0.63      0.70    526247\n",
      "weighted avg       0.99      0.99      0.99    526247\n",
      "\n"
     ]
    }
   ],
   "source": [
    "## Compute precision, recall and F1-score\n",
    "report = classification_report(y_test, y_test_pred_rf, target_names=['Legit', 'Fraud'])\n",
    "print(report)"
   ]
  },
  {
   "cell_type": "code",
   "execution_count": 21,
   "id": "0d5cd26e",
   "metadata": {},
   "outputs": [
    {
     "data": {
      "image/png": "[encoded data removed]",
      "text/plain": [
       "<Figure size 640x480 with 2 Axes>"
      ]
     },
     "metadata": {},
     "output_type": "display_data"
    },
    {
     "data": {
      "image/png": "[encoded data removed]",
      "text/plain": [
       "<Figure size 640x480 with 1 Axes>"
      ]
     },
     "metadata": {},
     "output_type": "display_data"
    },
    {
     "data": {
      "image/png": "[encoded data removed]",
      "text/plain": [
       "<Figure size 640x480 with 1 Axes>"
      ]
     },
     "metadata": {},
     "output_type": "display_data"
    }
   ],
   "source": [
    "# Predictions\n",
    "y_pred = model.predict(X_test)\n",
    "y_pred_proba = model.predict_proba(X_test)[:, 1]\n",
    "\n",
    "# Confusion Matrix\n",
    "cm = confusion_matrix(y_test, y_pred)\n",
    "sns.heatmap(cm, annot=True, fmt='d', cmap='Blues', xticklabels=['Legit', 'Fraud'], yticklabels=['Legit', 'Fraud'])\n",
    "plt.xlabel('Predicted')\n",
    "plt.ylabel('Actual')\n",
    "plt.show()\n",
    "\n",
    "# ROC Curve and AUC\n",
    "fpr, tpr, _ = roc_curve(y_test, y_pred_proba)\n",
    "roc_auc = auc(fpr, tpr)\n",
    "plt.figure()\n",
    "plt.plot(fpr, tpr, color='darkorange', lw=2, label=f'ROC curve (area = {roc_auc:.2f})')\n",
    "plt.plot([0, 1], [0, 1], color='navy', lw=2, linestyle='--')\n",
    "plt.xlabel('False Positive Rate')\n",
    "plt.ylabel('True Positive Rate')\n",
    "plt.title('Receiver Operating Characteristic')\n",
    "plt.legend(loc='lower right')\n",
    "plt.show()\n",
    "\n",
    "# Precision-Recall Curve\n",
    "precision, recall, _ = precision_recall_curve(y_test, y_pred_proba)\n",
    "plt.figure()\n",
    "plt.plot(recall, precision, lw=2, color='b', label='Precision-Recall curve')\n",
    "plt.xlabel('Recall')\n",
    "plt.ylabel('Precision')\n",
    "plt.title('Precision-Recall Curve')\n",
    "plt.legend(loc='upper right')\n",
    "plt.show()"
   ]
  },
  {
   "cell_type": "code",
   "execution_count": 22,
   "id": "8d0b93b1",
   "metadata": {},
   "outputs": [],
   "source": [
    "combined_df.to_csv('output.csv', index=False)"
   ]
  },
  {
   "cell_type": "code",
   "execution_count": 23,
   "id": "435ec4b0",
   "metadata": {},
   "outputs": [],
   "source": [
    "import pickle\n",
    "# Saving model to disk\n",
    "pickle.dump(rf, open('model.pkl','wb'))"
   ]
  }
 ],
 "metadata": {
  "kernelspec": {
   "display_name": "Python 3 (ipykernel)",
   "language": "python",
   "name": "python3"
  },
  "language_info": {
   "codemirror_mode": {
    "name": "ipython",
    "version": 3
   },
   "file_extension": ".py",
   "mimetype": "text/x-python",
   "name": "python",
   "nbconvert_exporter": "python",
   "pygments_lexer": "ipython3",
   "version": "3.10.9"
  }
 },
 "nbformat": 4,
 "nbformat_minor": 5
}
